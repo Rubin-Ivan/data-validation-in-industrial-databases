{
 "cells": [
  {
   "cell_type": "code",
   "execution_count": 1,
   "id": "db2ae523",
   "metadata": {},
   "outputs": [],
   "source": [
    "import os\n",
    "\n",
    "import numpy as np\n",
    "from statistics import mean\n",
    "from decimal import Decimal\n",
    "import matplotlib.pyplot as plt\n",
    "from PIL import Image, ImageDraw, ImageFont\n",
    "import matplotlib.patches as patches\n",
    "import bamt.networks as Nets\n",
    "import bamt.preprocessors as pp\n",
    "import bamt\n",
    "import pandas as pd\n",
    "import matplotlib.pyplot as plt\n",
    "from pathlib import Path\n",
    "\n",
    "\n",
    "from sklearn.metrics import accuracy_score, mean_squared_error\n",
    "from sklearn.ensemble import RandomForestClassifier\n",
    "from sklearn.neighbors import KNeighborsClassifier\n",
    "from sklearn.tree import DecisionTreeClassifier\n",
    "from bamt.builders import StructureBuilder\n",
    "import seaborn as sns\n",
    "import statsmodels.api as sm\n",
    "from sklearn.metrics import r2_score\n",
    "import math\n",
    "import random\n",
    "from scipy.spatial.distance import cdist\n",
    "from numpy import array\n",
    "from pgmpy.utils import get_example_model\n",
    "from pgmpy.estimators import PC\n",
    "from pgmpy.estimators import K2Score\n",
    "from sklearn import preprocessing\n",
    "from sklearn.model_selection import train_test_split\n",
    "from tqdm import tqdm\n",
    "from joblib import Parallel, delayed\n",
    "from pyvis.network import Network\n",
    "from pyitlib import discrete_random_variable as drv\n",
    "import bamt.builders as builders\n",
    "import itertools \n",
    "from itertools import islice\n",
    "from sklearn.metrics import f1_score\n",
    "from sklearn.metrics import accuracy_score\n",
    "import numpy as np\n",
    "from bamt.networks.continuous_bn import ContinuousBN\n",
    "from bamt.networks.hybrid_bn import HybridBN\n"
   ]
  },
  {
   "cell_type": "markdown",
   "id": "a03d5d54",
   "metadata": {},
   "source": [
    "### Загрузка ранее сформированных датасетов соответсвующих определенному сезону и сектору моря"
   ]
  },
  {
   "cell_type": "code",
   "execution_count": 2,
   "id": "28262a9b",
   "metadata": {},
   "outputs": [],
   "source": [
    "zima= pd.read_csv('Зима2019.npy_Laptevyh_const100200.csv')\n",
    "zima =zima.drop('Unnamed: 0', axis=1)\n",
    "\n",
    "vesna= pd.read_csv('Весна2019.npy_Laptevyh_const100200.csv')\n",
    "vesna =vesna.drop('Unnamed: 0', axis=1)\n",
    "\n",
    "leto= pd.read_csv('Лето2019.npy_Laptevyh_const100200.csv')\n",
    "leto =leto.drop('Unnamed: 0', axis=1)\n",
    "\n",
    "osen= pd.read_csv('Осень2019.npy_Laptevyh_const100200.csv')\n",
    "osen =osen.drop('Unnamed: 0', axis=1)"
   ]
  },
  {
   "cell_type": "code",
   "execution_count": 3,
   "id": "07f1854b",
   "metadata": {},
   "outputs": [],
   "source": [
    "df = pd.concat([zima, vesna, leto, osen], ignore_index= True)"
   ]
  },
  {
   "cell_type": "code",
   "execution_count": 4,
   "id": "394edc93",
   "metadata": {},
   "outputs": [],
   "source": [
    "df=df.astype({'NORM': 'float64'})\n",
    "data_train, data_test = train_test_split(df, test_size=0.3, random_state=42)\n",
    "target = data_test['NORM'].values\n",
    "data_test = data_test.drop(columns=['NORM'])"
   ]
  },
  {
   "cell_type": "markdown",
   "id": "63599177",
   "metadata": {},
   "source": [
    "### Применение функции для обучения Байесовской сети на ранее размеченных данных с искусственно сгенерированными аномалиями"
   ]
  },
  {
   "cell_type": "code",
   "execution_count": 5,
   "id": "5911e958",
   "metadata": {},
   "outputs": [],
   "source": [
    "from anomaly_search_functions import bn_learning"
   ]
  },
  {
   "cell_type": "code",
   "execution_count": 6,
   "id": "06ea77d1",
   "metadata": {},
   "outputs": [],
   "source": [
    "bn1=bn_learning(data_train)"
   ]
  },
  {
   "cell_type": "markdown",
   "id": "d0c9ceaf",
   "metadata": {},
   "source": [
    "#### Сохранение БС для дальнейшего использования"
   ]
  },
  {
   "cell_type": "code",
   "execution_count": 7,
   "id": "cc6dc529",
   "metadata": {},
   "outputs": [
    {
     "data": {
      "text/plain": [
       "True"
      ]
     },
     "execution_count": 7,
     "metadata": {},
     "output_type": "execute_result"
    }
   ],
   "source": [
    "bn1.save(\"Laptevyh_sektor_bn.json\")"
   ]
  },
  {
   "cell_type": "markdown",
   "id": "963be368",
   "metadata": {},
   "source": [
    "### Демонстрация поиска аномалий с применением ранее обученной Байесовской сети на тестовых данных с искусственно сгенерированными аномалиями"
   ]
  },
  {
   "cell_type": "code",
   "execution_count": 5,
   "id": "8c92a4fe",
   "metadata": {},
   "outputs": [],
   "source": [
    "bn2 = HybridBN(use_mixture=True, has_logit=True)\n",
    "\n",
    "bn2.load(\"Laptevyh_sektor_bn.json\")"
   ]
  },
  {
   "cell_type": "code",
   "execution_count": 6,
   "id": "e23fd9de",
   "metadata": {},
   "outputs": [],
   "source": [
    "from anomaly_search_functions import anom_search_func"
   ]
  },
  {
   "cell_type": "code",
   "execution_count": 7,
   "id": "b0542c59",
   "metadata": {},
   "outputs": [
    {
     "name": "stderr",
     "output_type": "stream",
     "text": [
      "100%|█████████████████████████████████████████████████████████████████████████████| 5460/5460 [00:14<00:00, 378.02it/s]\n"
     ]
    }
   ],
   "source": [
    "anomalii = anom_search_func(data_test,bn2,1)"
   ]
  },
  {
   "cell_type": "code",
   "execution_count": 9,
   "id": "b0c27889",
   "metadata": {},
   "outputs": [
    {
     "data": {
      "text/plain": [
       "0.8143204711646759"
      ]
     },
     "execution_count": 9,
     "metadata": {},
     "output_type": "execute_result"
    }
   ],
   "source": [
    "f1_score(target,anomalii, average='macro') "
   ]
  },
  {
   "cell_type": "code",
   "execution_count": null,
   "id": "484952c9",
   "metadata": {},
   "outputs": [],
   "source": []
  }
 ],
 "metadata": {
  "kernelspec": {
   "display_name": "Python 3 (ipykernel)",
   "language": "python",
   "name": "python3"
  },
  "language_info": {
   "codemirror_mode": {
    "name": "ipython",
    "version": 3
   },
   "file_extension": ".py",
   "mimetype": "text/x-python",
   "name": "python",
   "nbconvert_exporter": "python",
   "pygments_lexer": "ipython3",
   "version": "3.9.17"
  }
 },
 "nbformat": 4,
 "nbformat_minor": 5
}
