{
 "cells": [
  {
   "cell_type": "code",
   "execution_count": 1,
   "id": "e22e16d7",
   "metadata": {},
   "outputs": [],
   "source": [
    "import os\n",
    "import netCDF4 as nc\n",
    "import numpy as np\n",
    "from statistics import mean\n",
    "from decimal import Decimal\n",
    "import matplotlib.pyplot as plt\n",
    "from PIL import Image, ImageDraw, ImageFont\n",
    "import matplotlib.patches as patches\n",
    "\n",
    "import pandas as pd\n",
    "import matplotlib.pyplot as plt\n",
    "\n",
    "import seaborn as sns\n",
    "import statsmodels.api as sm\n",
    "from sklearn.metrics import r2_score\n",
    "import math\n",
    "import random\n",
    "from scipy.spatial.distance import cdist\n",
    "from numpy import array\n",
    "from matplotlib import path\n"
   ]
  },
  {
   "cell_type": "markdown",
   "id": "00d3d2f1",
   "metadata": {},
   "source": [
    "## 1. Запись координат сгенерированных аномалий"
   ]
  },
  {
   "cell_type": "code",
   "execution_count": 2,
   "id": "0053bfc9",
   "metadata": {},
   "outputs": [],
   "source": [
    "files=['Зима2019.npy','Весна2019.npy','Лето2019.npy','Осень2019.npy']"
   ]
  },
  {
   "cell_type": "code",
   "execution_count": null,
   "id": "de50eac1",
   "metadata": {},
   "outputs": [],
   "source": [
    "for file in files:\n",
    "    DATA = np.load(file)\n",
    "    DATA_AN = np.load(f'{file}_anom_sigma50.npy')\n",
    "    MATRIX = np.full((DATA.shape[0],3584 , 2432), True)\n",
    "    for z in range(0,DATA.shape[0]):\n",
    "        print(z)\n",
    "        for y in range(0,DATA.shape[1]):\n",
    "            for x in range(0,DATA.shape[2]):\n",
    "                if (DATA[z,y,x] != DATA_AN[z,y,x]):\n",
    "                    MATRIX[z,y,x]=False\n",
    "    np.save(f'{file}_anom_koord_sigma50.npy', MATRIX)\n",
    "    "
   ]
  },
  {
   "cell_type": "markdown",
   "id": "2d1ff901",
   "metadata": {},
   "source": [
    "## 2. Создание датасетов по файлам"
   ]
  },
  {
   "cell_type": "code",
   "execution_count": 6,
   "id": "0a1c139b",
   "metadata": {},
   "outputs": [],
   "source": [
    "files=['Зима2019.npy','Весна2019.npy','Лето2019.npy','Осень2019.npy']"
   ]
  },
  {
   "cell_type": "code",
   "execution_count": 7,
   "id": "827c7a01",
   "metadata": {},
   "outputs": [],
   "source": [
    "seasons=['winter', 'spring', 'summer', 'autumn']"
   ]
  },
  {
   "cell_type": "code",
   "execution_count": 10,
   "id": "d9435d59",
   "metadata": {},
   "outputs": [],
   "source": [
    "i=0\n",
    "for file in files:\n",
    "    DATA_AN = np.load(f'{file}_anom_sigma50.npy')\n",
    "    KOORD = np.load(f'{file}_anom_koord_sigma50.npy')\n",
    "    MORE_sektor = np.load('Laptevyh_sektor500.npy')\n",
    "    list_znach=[]\n",
    "    list_anom=[]\n",
    "    for yx in MORE_sektor:\n",
    "        y=yx[0]\n",
    "        x=yx[1]\n",
    "        for z in range(0,DATA_AN.shape[0]):\n",
    "            list_znach.append(DATA_AN[z,y,x])\n",
    "            list_anom.append(KOORD[z,y,x])\n",
    "    listofzeros=[seasons[i]] * len(list_anom)\n",
    "    df = pd.DataFrame({\n",
    "    'VALUE':list_znach ,\n",
    "    'NORM': list_anom,\n",
    "    'SEASON': listofzeros})\n",
    "    \n",
    "    \n",
    "    df.to_csv(f'{file}_Laptevyh_sigma50.csv')  \n",
    "    i=i+1"
   ]
  },
  {
   "cell_type": "code",
   "execution_count": 80,
   "id": "27f1b15b",
   "metadata": {},
   "outputs": [
    {
     "data": {
      "text/html": [
       "<div>\n",
       "<style scoped>\n",
       "    .dataframe tbody tr th:only-of-type {\n",
       "        vertical-align: middle;\n",
       "    }\n",
       "\n",
       "    .dataframe tbody tr th {\n",
       "        vertical-align: top;\n",
       "    }\n",
       "\n",
       "    .dataframe thead th {\n",
       "        text-align: right;\n",
       "    }\n",
       "</style>\n",
       "<table border=\"1\" class=\"dataframe\">\n",
       "  <thead>\n",
       "    <tr style=\"text-align: right;\">\n",
       "      <th></th>\n",
       "      <th>VALUE</th>\n",
       "      <th>NORM</th>\n",
       "      <th>SEASON</th>\n",
       "    </tr>\n",
       "  </thead>\n",
       "  <tbody>\n",
       "    <tr>\n",
       "      <th>0</th>\n",
       "      <td>0.000000</td>\n",
       "      <td>True</td>\n",
       "      <td>autumn</td>\n",
       "    </tr>\n",
       "    <tr>\n",
       "      <th>1</th>\n",
       "      <td>0.000000</td>\n",
       "      <td>True</td>\n",
       "      <td>autumn</td>\n",
       "    </tr>\n",
       "    <tr>\n",
       "      <th>2</th>\n",
       "      <td>0.000000</td>\n",
       "      <td>True</td>\n",
       "      <td>autumn</td>\n",
       "    </tr>\n",
       "    <tr>\n",
       "      <th>3</th>\n",
       "      <td>0.000000</td>\n",
       "      <td>True</td>\n",
       "      <td>autumn</td>\n",
       "    </tr>\n",
       "    <tr>\n",
       "      <th>4</th>\n",
       "      <td>0.000000</td>\n",
       "      <td>True</td>\n",
       "      <td>autumn</td>\n",
       "    </tr>\n",
       "    <tr>\n",
       "      <th>...</th>\n",
       "      <td>...</td>\n",
       "      <td>...</td>\n",
       "      <td>...</td>\n",
       "    </tr>\n",
       "    <tr>\n",
       "      <th>12095</th>\n",
       "      <td>75.919998</td>\n",
       "      <td>True</td>\n",
       "      <td>autumn</td>\n",
       "    </tr>\n",
       "    <tr>\n",
       "      <th>12096</th>\n",
       "      <td>86.449997</td>\n",
       "      <td>True</td>\n",
       "      <td>autumn</td>\n",
       "    </tr>\n",
       "    <tr>\n",
       "      <th>12097</th>\n",
       "      <td>98.939995</td>\n",
       "      <td>True</td>\n",
       "      <td>autumn</td>\n",
       "    </tr>\n",
       "    <tr>\n",
       "      <th>12098</th>\n",
       "      <td>96.619995</td>\n",
       "      <td>True</td>\n",
       "      <td>autumn</td>\n",
       "    </tr>\n",
       "    <tr>\n",
       "      <th>12099</th>\n",
       "      <td>98.220001</td>\n",
       "      <td>True</td>\n",
       "      <td>autumn</td>\n",
       "    </tr>\n",
       "  </tbody>\n",
       "</table>\n",
       "<p>12100 rows × 3 columns</p>\n",
       "</div>"
      ],
      "text/plain": [
       "           VALUE  NORM  SEASON\n",
       "0       0.000000  True  autumn\n",
       "1       0.000000  True  autumn\n",
       "2       0.000000  True  autumn\n",
       "3       0.000000  True  autumn\n",
       "4       0.000000  True  autumn\n",
       "...          ...   ...     ...\n",
       "12095  75.919998  True  autumn\n",
       "12096  86.449997  True  autumn\n",
       "12097  98.939995  True  autumn\n",
       "12098  96.619995  True  autumn\n",
       "12099  98.220001  True  autumn\n",
       "\n",
       "[12100 rows x 3 columns]"
      ]
     },
     "execution_count": 80,
     "metadata": {},
     "output_type": "execute_result"
    }
   ],
   "source": [
    "df"
   ]
  },
  {
   "cell_type": "code",
   "execution_count": null,
   "id": "f83ddc4f",
   "metadata": {},
   "outputs": [],
   "source": []
  }
 ],
 "metadata": {
  "kernelspec": {
   "display_name": "Python 3 (ipykernel)",
   "language": "python",
   "name": "python3"
  },
  "language_info": {
   "codemirror_mode": {
    "name": "ipython",
    "version": 3
   },
   "file_extension": ".py",
   "mimetype": "text/x-python",
   "name": "python",
   "nbconvert_exporter": "python",
   "pygments_lexer": "ipython3",
   "version": "3.9.17"
  }
 },
 "nbformat": 4,
 "nbformat_minor": 5
}
