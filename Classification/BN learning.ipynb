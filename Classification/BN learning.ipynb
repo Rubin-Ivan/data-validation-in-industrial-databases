{
 "cells": [
  {
   "cell_type": "code",
   "execution_count": 1,
   "id": "3affaf40",
   "metadata": {},
   "outputs": [],
   "source": [
    "import os\n",
    "\n",
    "import numpy as np\n",
    "from statistics import mean\n",
    "from decimal import Decimal\n",
    "import matplotlib.pyplot as plt\n",
    "from PIL import Image, ImageDraw, ImageFont\n",
    "import matplotlib.patches as patches\n",
    "import bamt.networks as Nets\n",
    "import bamt.preprocessors as pp\n",
    "import bamt\n",
    "import pandas as pd\n",
    "import matplotlib.pyplot as plt\n",
    "from pathlib import Path\n",
    "\n",
    "from sklearn import preprocessing\n",
    "from sklearn.metrics import accuracy_score, mean_squared_error\n",
    "from sklearn.ensemble import RandomForestClassifier\n",
    "from sklearn.neighbors import KNeighborsClassifier\n",
    "from sklearn.tree import DecisionTreeClassifier\n",
    "from pgmpy.estimators import K2Score\n",
    "from bamt.builders import StructureBuilder\n",
    "import seaborn as sns\n",
    "import statsmodels.api as sm\n",
    "from sklearn.metrics import r2_score\n",
    "import math\n",
    "import random\n",
    "from scipy.spatial.distance import cdist\n",
    "from numpy import array\n",
    "from pgmpy.utils import get_example_model\n",
    "from pgmpy.estimators import PC\n",
    "from pgmpy.estimators import K2Score\n",
    "from sklearn import preprocessing\n",
    "from pgmpy.estimators import K2Score\n",
    "\n",
    "\n",
    "from sklearn.model_selection import train_test_split\n",
    "from tqdm import tqdm\n",
    "from joblib import Parallel, delayed\n",
    "from pyvis.network import Network\n",
    "from pyitlib import discrete_random_variable as drv\n",
    "from pgmpy.estimators import K2Score\n",
    "import bamt.builders as builders\n",
    "import itertools \n",
    "from itertools import islice\n",
    "\n",
    "from sklearn.metrics import f1_score\n",
    "from sklearn.metrics import accuracy_score"
   ]
  },
  {
   "cell_type": "code",
   "execution_count": 2,
   "id": "8d9b2a07",
   "metadata": {},
   "outputs": [],
   "source": [
    "import numpy as np\n",
    "from bamt.networks.continuous_bn import ContinuousBN\n",
    "from bamt.networks.hybrid_bn import HybridBN"
   ]
  },
  {
   "cell_type": "code",
   "execution_count": 3,
   "id": "732126c3",
   "metadata": {},
   "outputs": [],
   "source": [
    "def covert_to_boolean(a):\n",
    "    return [bool(x) for x in a]"
   ]
  },
  {
   "cell_type": "code",
   "execution_count": 21,
   "id": "1ff05969",
   "metadata": {},
   "outputs": [],
   "source": [
    "ends=['_Laptevyh_k001.csv','_Laptevyh_k003.csv','_Laptevyh_k005.csv','_Laptevyh_k01.csv']"
   ]
  },
  {
   "cell_type": "code",
   "execution_count": 4,
   "id": "c3067b83",
   "metadata": {},
   "outputs": [],
   "source": [
    "ends=['_Laptevyh_const1030.csv','_Laptevyh_const50100.csv','_Laptevyh_const100200.csv']"
   ]
  },
  {
   "cell_type": "code",
   "execution_count": 4,
   "id": "eb327fb1",
   "metadata": {},
   "outputs": [],
   "source": [
    "ends=['_Laptevyh_sigma2.csv','_Laptevyh_sigma10.csv','_Laptevyh_sigma50.csv']"
   ]
  },
  {
   "cell_type": "code",
   "execution_count": 5,
   "id": "58bdd0ef",
   "metadata": {},
   "outputs": [
    {
     "name": "stderr",
     "output_type": "stream",
     "text": [
      "100%|█████████████████████████████████████████████████████████████████████████████| 5460/5460 [00:11<00:00, 485.79it/s]\n",
      "100%|█████████████████████████████████████████████████████████████████████████████| 5460/5460 [00:06<00:00, 853.09it/s]\n",
      "100%|█████████████████████████████████████████████████████████████████████████████| 5460/5460 [00:06<00:00, 841.24it/s]\n"
     ]
    }
   ],
   "source": [
    "f1=[]\n",
    "for end in ends:\n",
    "    ZIMA = pd.read_csv(f'Зима2019.npy{end}')\n",
    "    VESNA = pd.read_csv(f'Весна2019.npy{end}')\n",
    "    LETO = pd.read_csv(f'Лето2019.npy{end}')\n",
    "    OSEN = pd.read_csv(f'Осень2019.npy{end}')\n",
    "    \n",
    "    ZIMA =ZIMA.drop('Unnamed: 0', axis=1)\n",
    "    VESNA =VESNA.drop('Unnamed: 0', axis=1)\n",
    "    LETO =LETO.drop('Unnamed: 0', axis=1)\n",
    "    OSEN =OSEN.drop('Unnamed: 0', axis=1)\n",
    "    \n",
    "    df = pd.concat([ZIMA, VESNA, LETO, OSEN], ignore_index= True)\n",
    "    \n",
    "    df=df.astype({'NORM': 'float64'})\n",
    "    \n",
    "    bn = HybridBN(use_mixture=True, has_logit=True)\n",
    "    \n",
    "    encoder = preprocessing.LabelEncoder()\n",
    "    discretizer = preprocessing.KBinsDiscretizer(n_bins=5, encode='ordinal', strategy='quantile')\n",
    "\n",
    "    p = pp.Preprocessor([('encoder', encoder), ('discretizer', discretizer)])\n",
    "    discretized_data, est = p.apply(df)\n",
    "\n",
    "    info = p.info\n",
    "\n",
    "    bn.add_nodes(info)\n",
    "\n",
    "    structure = [(\"VALUE\", \"NORM\"),\n",
    "            (\"SEASON\", \"NORM\")]\n",
    "\n",
    "    bn.set_structure(edges=structure)\n",
    "    \n",
    "    data_train, data_test = train_test_split(df, test_size=0.3, random_state=42)\n",
    "\n",
    "    target = data_test['NORM'].values\n",
    "\n",
    "    data_test = data_test.drop(columns=['NORM'])\n",
    "    \n",
    "    bn.fit_parameters(data_train)\n",
    "    \n",
    "    predictions = bn.predict(data_test, 4)\n",
    "    \n",
    "    pred= covert_to_boolean(predictions['NORM'])\n",
    "    \n",
    "    f1.append(f1_score(target,pred, average='macro'))\n",
    "    \n"
   ]
  },
  {
   "cell_type": "code",
   "execution_count": 6,
   "id": "ad893ca1",
   "metadata": {},
   "outputs": [
    {
     "data": {
      "text/plain": [
       "[0.6031590694480213, 0.635832505225645, 0.48938557935097726]"
      ]
     },
     "execution_count": 6,
     "metadata": {},
     "output_type": "execute_result"
    }
   ],
   "source": [
    "f1"
   ]
  },
  {
   "cell_type": "code",
   "execution_count": 23,
   "id": "45aa91cc",
   "metadata": {},
   "outputs": [
    {
     "data": {
      "text/plain": [
       "[0.49811563562827466, 0.5807756499108936, 0.620076454394823, 0.473430417590896]"
      ]
     },
     "execution_count": 23,
     "metadata": {},
     "output_type": "execute_result"
    }
   ],
   "source": [
    "f1"
   ]
  },
  {
   "cell_type": "code",
   "execution_count": 19,
   "id": "07783a61",
   "metadata": {},
   "outputs": [
    {
     "data": {
      "text/plain": [
       "[0.5035269926271284, 0.49250677080814437, 0.6948999671808509]"
      ]
     },
     "execution_count": 19,
     "metadata": {},
     "output_type": "execute_result"
    }
   ],
   "source": [
    "f1"
   ]
  },
  {
   "cell_type": "code",
   "execution_count": 13,
   "id": "925a9ee7",
   "metadata": {},
   "outputs": [],
   "source": [
    "df=df.astype({'NORM': 'object'})"
   ]
  },
  {
   "cell_type": "code",
   "execution_count": 10,
   "id": "4ddddafd",
   "metadata": {},
   "outputs": [
    {
     "data": {
      "text/html": [
       "<div>\n",
       "<style scoped>\n",
       "    .dataframe tbody tr th:only-of-type {\n",
       "        vertical-align: middle;\n",
       "    }\n",
       "\n",
       "    .dataframe tbody tr th {\n",
       "        vertical-align: top;\n",
       "    }\n",
       "\n",
       "    .dataframe thead th {\n",
       "        text-align: right;\n",
       "    }\n",
       "</style>\n",
       "<table border=\"1\" class=\"dataframe\">\n",
       "  <thead>\n",
       "    <tr style=\"text-align: right;\">\n",
       "      <th></th>\n",
       "      <th>VALUE</th>\n",
       "      <th>NORM</th>\n",
       "      <th>SEASON</th>\n",
       "    </tr>\n",
       "  </thead>\n",
       "  <tbody>\n",
       "    <tr>\n",
       "      <th>0</th>\n",
       "      <td>98.890000</td>\n",
       "      <td>True</td>\n",
       "      <td>winter</td>\n",
       "    </tr>\n",
       "    <tr>\n",
       "      <th>1</th>\n",
       "      <td>97.600000</td>\n",
       "      <td>True</td>\n",
       "      <td>winter</td>\n",
       "    </tr>\n",
       "    <tr>\n",
       "      <th>34</th>\n",
       "      <td>100.000000</td>\n",
       "      <td>True</td>\n",
       "      <td>winter</td>\n",
       "    </tr>\n",
       "    <tr>\n",
       "      <th>35</th>\n",
       "      <td>100.000000</td>\n",
       "      <td>True</td>\n",
       "      <td>winter</td>\n",
       "    </tr>\n",
       "    <tr>\n",
       "      <th>36</th>\n",
       "      <td>98.479996</td>\n",
       "      <td>True</td>\n",
       "      <td>winter</td>\n",
       "    </tr>\n",
       "    <tr>\n",
       "      <th>...</th>\n",
       "      <td>...</td>\n",
       "      <td>...</td>\n",
       "      <td>...</td>\n",
       "    </tr>\n",
       "    <tr>\n",
       "      <th>18195</th>\n",
       "      <td>99.290000</td>\n",
       "      <td>True</td>\n",
       "      <td>autumn</td>\n",
       "    </tr>\n",
       "    <tr>\n",
       "      <th>18196</th>\n",
       "      <td>99.670000</td>\n",
       "      <td>True</td>\n",
       "      <td>autumn</td>\n",
       "    </tr>\n",
       "    <tr>\n",
       "      <th>18197</th>\n",
       "      <td>99.930000</td>\n",
       "      <td>True</td>\n",
       "      <td>autumn</td>\n",
       "    </tr>\n",
       "    <tr>\n",
       "      <th>18198</th>\n",
       "      <td>99.320000</td>\n",
       "      <td>True</td>\n",
       "      <td>autumn</td>\n",
       "    </tr>\n",
       "    <tr>\n",
       "      <th>18199</th>\n",
       "      <td>99.350000</td>\n",
       "      <td>True</td>\n",
       "      <td>autumn</td>\n",
       "    </tr>\n",
       "  </tbody>\n",
       "</table>\n",
       "<p>17239 rows × 3 columns</p>\n",
       "</div>"
      ],
      "text/plain": [
       "            VALUE  NORM  SEASON\n",
       "0       98.890000  True  winter\n",
       "1       97.600000  True  winter\n",
       "34     100.000000  True  winter\n",
       "35     100.000000  True  winter\n",
       "36      98.479996  True  winter\n",
       "...           ...   ...     ...\n",
       "18195   99.290000  True  autumn\n",
       "18196   99.670000  True  autumn\n",
       "18197   99.930000  True  autumn\n",
       "18198   99.320000  True  autumn\n",
       "18199   99.350000  True  autumn\n",
       "\n",
       "[17239 rows x 3 columns]"
      ]
     },
     "execution_count": 10,
     "metadata": {},
     "output_type": "execute_result"
    }
   ],
   "source": [
    "df[df['NORM']==True]"
   ]
  },
  {
   "cell_type": "code",
   "execution_count": 15,
   "id": "917aaafb",
   "metadata": {},
   "outputs": [],
   "source": [
    "pd.set_option('display.max_rows', None)\n",
    " \n",
    "# Сброс ограничений на число столбцов\n",
    "pd.set_option('display.max_columns', None)\n",
    " \n",
    "# Сброс ограничений на количество символов в записи\n",
    "pd.set_option('display.max_colwidth', None)"
   ]
  },
  {
   "cell_type": "code",
   "execution_count": 24,
   "id": "0e33e23a",
   "metadata": {},
   "outputs": [
    {
     "data": {
      "text/html": [
       "<div>\n",
       "<style scoped>\n",
       "    .dataframe tbody tr th:only-of-type {\n",
       "        vertical-align: middle;\n",
       "    }\n",
       "\n",
       "    .dataframe tbody tr th {\n",
       "        vertical-align: top;\n",
       "    }\n",
       "\n",
       "    .dataframe thead th {\n",
       "        text-align: right;\n",
       "    }\n",
       "</style>\n",
       "<table border=\"1\" class=\"dataframe\">\n",
       "  <thead>\n",
       "    <tr style=\"text-align: right;\">\n",
       "      <th></th>\n",
       "      <th>VALUE</th>\n",
       "      <th>NORM</th>\n",
       "      <th>SEASON</th>\n",
       "    </tr>\n",
       "  </thead>\n",
       "  <tbody>\n",
       "    <tr>\n",
       "      <th>0</th>\n",
       "      <td>64.500000</td>\n",
       "      <td>True</td>\n",
       "      <td>winter</td>\n",
       "    </tr>\n",
       "    <tr>\n",
       "      <th>1</th>\n",
       "      <td>75.340000</td>\n",
       "      <td>True</td>\n",
       "      <td>winter</td>\n",
       "    </tr>\n",
       "    <tr>\n",
       "      <th>2</th>\n",
       "      <td>64.210000</td>\n",
       "      <td>True</td>\n",
       "      <td>winter</td>\n",
       "    </tr>\n",
       "    <tr>\n",
       "      <th>3</th>\n",
       "      <td>91.360000</td>\n",
       "      <td>True</td>\n",
       "      <td>winter</td>\n",
       "    </tr>\n",
       "    <tr>\n",
       "      <th>4</th>\n",
       "      <td>93.060000</td>\n",
       "      <td>True</td>\n",
       "      <td>winter</td>\n",
       "    </tr>\n",
       "    <tr>\n",
       "      <th>...</th>\n",
       "      <td>...</td>\n",
       "      <td>...</td>\n",
       "      <td>...</td>\n",
       "    </tr>\n",
       "    <tr>\n",
       "      <th>69995</th>\n",
       "      <td>73.549995</td>\n",
       "      <td>True</td>\n",
       "      <td>autumn</td>\n",
       "    </tr>\n",
       "    <tr>\n",
       "      <th>69996</th>\n",
       "      <td>0.000000</td>\n",
       "      <td>True</td>\n",
       "      <td>autumn</td>\n",
       "    </tr>\n",
       "    <tr>\n",
       "      <th>69997</th>\n",
       "      <td>0.000000</td>\n",
       "      <td>True</td>\n",
       "      <td>autumn</td>\n",
       "    </tr>\n",
       "    <tr>\n",
       "      <th>69998</th>\n",
       "      <td>0.000000</td>\n",
       "      <td>True</td>\n",
       "      <td>autumn</td>\n",
       "    </tr>\n",
       "    <tr>\n",
       "      <th>69999</th>\n",
       "      <td>0.000000</td>\n",
       "      <td>True</td>\n",
       "      <td>autumn</td>\n",
       "    </tr>\n",
       "  </tbody>\n",
       "</table>\n",
       "<p>70000 rows × 3 columns</p>\n",
       "</div>"
      ],
      "text/plain": [
       "           VALUE  NORM  SEASON\n",
       "0      64.500000  True  winter\n",
       "1      75.340000  True  winter\n",
       "2      64.210000  True  winter\n",
       "3      91.360000  True  winter\n",
       "4      93.060000  True  winter\n",
       "...          ...   ...     ...\n",
       "69995  73.549995  True  autumn\n",
       "69996   0.000000  True  autumn\n",
       "69997   0.000000  True  autumn\n",
       "69998   0.000000  True  autumn\n",
       "69999   0.000000  True  autumn\n",
       "\n",
       "[70000 rows x 3 columns]"
      ]
     },
     "execution_count": 24,
     "metadata": {},
     "output_type": "execute_result"
    }
   ],
   "source": [
    "df"
   ]
  },
  {
   "cell_type": "code",
   "execution_count": 11,
   "id": "a7cde8e6",
   "metadata": {
    "scrolled": true
   },
   "outputs": [
    {
     "data": {
      "text/plain": [
       "VALUE     float64\n",
       "NORM         bool\n",
       "SEASON     object\n",
       "dtype: object"
      ]
     },
     "execution_count": 11,
     "metadata": {},
     "output_type": "execute_result"
    }
   ],
   "source": [
    "df.dtypes"
   ]
  }
 ],
 "metadata": {
  "kernelspec": {
   "display_name": "Python 3 (ipykernel)",
   "language": "python",
   "name": "python3"
  },
  "language_info": {
   "codemirror_mode": {
    "name": "ipython",
    "version": 3
   },
   "file_extension": ".py",
   "mimetype": "text/x-python",
   "name": "python",
   "nbconvert_exporter": "python",
   "pygments_lexer": "ipython3",
   "version": "3.9.17"
  }
 },
 "nbformat": 4,
 "nbformat_minor": 5
}
